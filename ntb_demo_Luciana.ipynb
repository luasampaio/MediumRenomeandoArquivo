{
 "cells": [
  {
   "cell_type": "code",
   "execution_count": 0,
   "metadata": {
    "application/vnd.databricks.v1+cell": {
     "cellMetadata": {
      "byteLimit": 2048000,
      "rowLimit": 10000
     },
     "inputWidgets": {},
     "nuid": "026439f1-0db0-474f-bd52-aa978b229473",
     "showTitle": false,
     "title": ""
    }
   },
   "outputs": [],
   "source": [
    "# Especificar o caminho do arquivo CSV onde deseja salvar a tabela\n",
    "caminho_arquivo_csv = \"/mnt/temp/ia/databricks_temp/tratados\""
   ]
  },
  {
   "cell_type": "code",
   "execution_count": 0,
   "metadata": {
    "application/vnd.databricks.v1+cell": {
     "cellMetadata": {
      "byteLimit": 2048000,
      "rowLimit": 10000
     },
     "inputWidgets": {},
     "nuid": "37b8cf57-1e43-4e18-ab62-04710fe4d269",
     "showTitle": false,
     "title": ""
    }
   },
   "outputs": [
    {
     "output_type": "execute_result",
     "data": {
      "text/plain": [
       "'/mnt/temp/ia/databricks_temp/tratados'"
      ]
     },
     "execution_count": 54,
     "metadata": {},
     "output_type": "execute_result"
    }
   ],
   "source": [
    "caminho_arquivo_csv"
   ]
  },
  {
   "cell_type": "code",
   "execution_count": 0,
   "metadata": {
    "application/vnd.databricks.v1+cell": {
     "cellMetadata": {
      "byteLimit": 2048000,
      "rowLimit": 10000
     },
     "inputWidgets": {},
     "nuid": "aca90a0e-f298-4298-af0a-7a853cb4a9f5",
     "showTitle": false,
     "title": ""
    }
   },
   "outputs": [],
   "source": [
    "import pandas as pd\n",
    "\n",
    "# Adjust the path to use the DBFS file system\n",
    "df = pd.read_csv(\"file:/dbfs/mnt/temp/ia/databricks_temp/Brahma Sample Data - CVS Pharmacy sample.csv\")"
   ]
  },
  {
   "cell_type": "code",
   "execution_count": 0,
   "metadata": {
    "application/vnd.databricks.v1+cell": {
     "cellMetadata": {
      "byteLimit": 2048000,
      "rowLimit": 10000
     },
     "inputWidgets": {},
     "nuid": "0485078d-3401-4c1a-bf50-2be2dc25b921",
     "showTitle": false,
     "title": ""
    }
   },
   "outputs": [
    {
     "output_type": "display_data",
     "data": {
      "text/html": [
       "<style scoped>\n",
       "  .table-result-container {\n",
       "    max-height: 300px;\n",
       "    overflow: auto;\n",
       "  }\n",
       "  table, th, td {\n",
       "    border: 1px solid black;\n",
       "    border-collapse: collapse;\n",
       "  }\n",
       "  th, td {\n",
       "    padding: 5px;\n",
       "  }\n",
       "  th {\n",
       "    text-align: left;\n",
       "  }\n",
       "</style><div class='table-result-container'><table class='table-result'><thead style='background-color: white'><tr><th>transaction_id</th><th>pharmacy_id</th><th>product_id</th><th>customer_id</th><th>transaction_date</th><th>quantity</th><th>total_amount</th><th>payment_method</th></tr></thead><tbody><tr><td>1001</td><td>1</td><td>101</td><td>5001</td><td>2024-08-01 9:00</td><td>2</td><td>40</td><td>Credit Card</td></tr><tr><td>1002</td><td>2</td><td>102</td><td>5002</td><td>2024-08-01 10:15</td><td>1</td><td>20</td><td>Cash</td></tr><tr><td>1003</td><td>1</td><td>103</td><td>5003</td><td>2024-08-01 11:30</td><td>3</td><td>90</td><td>Credit Card</td></tr><tr><td>1004</td><td>3</td><td>104</td><td>5004</td><td>2024-08-01 12:45</td><td>1</td><td>15</td><td>Debit Card</td></tr><tr><td>1005</td><td>2</td><td>105</td><td>5005</td><td>2024-08-01 13:00</td><td>2</td><td>50</td><td>Cash</td></tr><tr><td>1006</td><td>3</td><td>106</td><td>5006</td><td>2024-08-01 14:20</td><td>1</td><td>30</td><td>Credit Card</td></tr><tr><td>1007</td><td>1</td><td>101</td><td>5001</td><td>2024-08-01 15:30</td><td>1</td><td>20</td><td>Credit Card</td></tr><tr><td>1008</td><td>2</td><td>103</td><td>5003</td><td>2024-08-01 16:00</td><td>2</td><td>60</td><td>Debit Card</td></tr><tr><td>1009</td><td>3</td><td>102</td><td>5002</td><td>2024-08-01 17:10</td><td>1</td><td>20</td><td>Cash</td></tr><tr><td>1010</td><td>1</td><td>104</td><td>5004</td><td>2024-08-02 9:00</td><td>4</td><td>60</td><td>Credit Card</td></tr><tr><td>1011</td><td>2</td><td>106</td><td>5006</td><td>2024-08-02 10:30</td><td>2</td><td>60</td><td>Debit Card</td></tr><tr><td>1012</td><td>3</td><td>105</td><td>5005</td><td>2024-08-02 11:45</td><td>1</td><td>25</td><td>Cash</td></tr></tbody></table></div>"
      ]
     },
     "metadata": {
      "application/vnd.databricks.v1+output": {
       "addedWidgets": {},
       "aggData": [],
       "aggError": "",
       "aggOverflow": false,
       "aggSchema": [],
       "aggSeriesLimitReached": false,
       "aggType": "",
       "arguments": {},
       "columnCustomDisplayInfos": {},
       "data": [
        [
         1001,
         1,
         101,
         5001,
         "2024-08-01 9:00",
         2,
         40,
         "Credit Card"
        ],
        [
         1002,
         2,
         102,
         5002,
         "2024-08-01 10:15",
         1,
         20,
         "Cash"
        ],
        [
         1003,
         1,
         103,
         5003,
         "2024-08-01 11:30",
         3,
         90,
         "Credit Card"
        ],
        [
         1004,
         3,
         104,
         5004,
         "2024-08-01 12:45",
         1,
         15,
         "Debit Card"
        ],
        [
         1005,
         2,
         105,
         5005,
         "2024-08-01 13:00",
         2,
         50,
         "Cash"
        ],
        [
         1006,
         3,
         106,
         5006,
         "2024-08-01 14:20",
         1,
         30,
         "Credit Card"
        ],
        [
         1007,
         1,
         101,
         5001,
         "2024-08-01 15:30",
         1,
         20,
         "Credit Card"
        ],
        [
         1008,
         2,
         103,
         5003,
         "2024-08-01 16:00",
         2,
         60,
         "Debit Card"
        ],
        [
         1009,
         3,
         102,
         5002,
         "2024-08-01 17:10",
         1,
         20,
         "Cash"
        ],
        [
         1010,
         1,
         104,
         5004,
         "2024-08-02 9:00",
         4,
         60,
         "Credit Card"
        ],
        [
         1011,
         2,
         106,
         5006,
         "2024-08-02 10:30",
         2,
         60,
         "Debit Card"
        ],
        [
         1012,
         3,
         105,
         5005,
         "2024-08-02 11:45",
         1,
         25,
         "Cash"
        ]
       ],
       "datasetInfos": [],
       "dbfsResultPath": null,
       "isJsonSchema": true,
       "metadata": {},
       "overflow": false,
       "plotOptions": {
        "customPlotOptions": {},
        "displayType": "table",
        "pivotAggregation": null,
        "pivotColumns": null,
        "xColumns": null,
        "yColumns": null
       },
       "removedWidgets": [],
       "schema": [
        {
         "metadata": "{}",
         "name": "transaction_id",
         "type": "\"long\""
        },
        {
         "metadata": "{}",
         "name": "pharmacy_id",
         "type": "\"long\""
        },
        {
         "metadata": "{}",
         "name": "product_id",
         "type": "\"long\""
        },
        {
         "metadata": "{}",
         "name": "customer_id",
         "type": "\"long\""
        },
        {
         "metadata": "{}",
         "name": "transaction_date",
         "type": "\"string\""
        },
        {
         "metadata": "{}",
         "name": "quantity",
         "type": "\"long\""
        },
        {
         "metadata": "{}",
         "name": "total_amount",
         "type": "\"long\""
        },
        {
         "metadata": "{}",
         "name": "payment_method",
         "type": "\"string\""
        }
       ],
       "type": "table"
      }
     },
     "output_type": "display_data"
    }
   ],
   "source": [
    "df.display()"
   ]
  },
  {
   "cell_type": "code",
   "execution_count": 0,
   "metadata": {
    "application/vnd.databricks.v1+cell": {
     "cellMetadata": {
      "byteLimit": 2048000,
      "rowLimit": 10000
     },
     "inputWidgets": {},
     "nuid": "e38ce3d5-bd5b-4099-b99b-f086edd76966",
     "showTitle": false,
     "title": ""
    }
   },
   "outputs": [
    {
     "output_type": "execute_result",
     "data": {
      "text/plain": [
       "transaction_id      12\n",
       "pharmacy_id         12\n",
       "product_id          12\n",
       "customer_id         12\n",
       "transaction_date    12\n",
       "quantity            12\n",
       "total_amount        12\n",
       "payment_method      12\n",
       "dtype: int64"
      ]
     },
     "execution_count": 51,
     "metadata": {},
     "output_type": "execute_result"
    }
   ],
   "source": [
    "df.count()"
   ]
  },
  {
   "cell_type": "code",
   "execution_count": 0,
   "metadata": {
    "application/vnd.databricks.v1+cell": {
     "cellMetadata": {
      "byteLimit": 2048000,
      "rowLimit": 10000
     },
     "inputWidgets": {},
     "nuid": "def25f0a-a556-4c3a-85ae-02d1e08f9f9e",
     "showTitle": false,
     "title": ""
    }
   },
   "outputs": [
    {
     "output_type": "stream",
     "name": "stdout",
     "output_type": "stream",
     "text": [
      "Numero de linhas na tabela transaction_id      12\npharmacy_id         12\nproduct_id          12\ncustomer_id         12\ntransaction_date    12\nquantity            12\ntotal_amount        12\npayment_method      12\ndtype: int64\nNumero de colunas na tabela 8\n"
     ]
    }
   ],
   "source": [
    "# Quantidade de linhas e colunas do conjunto de dados.\n",
    "num_rows = df.count()\n",
    "num_cols = len(df.columns)\n",
    "\n",
    "print(\"Numero de linhas na tabela\", num_rows)\n",
    "print(\"Numero de colunas na tabela\", num_cols)"
   ]
  },
  {
   "cell_type": "markdown",
   "metadata": {
    "application/vnd.databricks.v1+cell": {
     "cellMetadata": {},
     "inputWidgets": {},
     "nuid": "e9536f21-a4d4-4db9-921c-1e0ef2483cea",
     "showTitle": false,
     "title": ""
    }
   },
   "source": [
    "## Verificando a **duplicidade**"
   ]
  },
  {
   "cell_type": "code",
   "execution_count": 0,
   "metadata": {
    "application/vnd.databricks.v1+cell": {
     "cellMetadata": {
      "byteLimit": 2048000,
      "rowLimit": 10000
     },
     "inputWidgets": {},
     "nuid": "7cc10c7d-061f-4006-9657-99344daeaa2f",
     "showTitle": false,
     "title": ""
    }
   },
   "outputs": [
    {
     "output_type": "display_data",
     "data": {
      "text/html": [
       "<style scoped>\n",
       "  .table-result-container {\n",
       "    max-height: 300px;\n",
       "    overflow: auto;\n",
       "  }\n",
       "  table, th, td {\n",
       "    border: 1px solid black;\n",
       "    border-collapse: collapse;\n",
       "  }\n",
       "  th, td {\n",
       "    padding: 5px;\n",
       "  }\n",
       "  th {\n",
       "    text-align: left;\n",
       "  }\n",
       "</style><div class='table-result-container'><table class='table-result'><thead style='background-color: white'><tr><th>transaction_id</th><th>pharmacy_id</th><th>product_id</th><th>customer_id</th><th>transaction_date</th><th>quantity</th><th>total_amount</th><th>payment_method</th><th>count</th></tr></thead><tbody></tbody></table></div>"
      ]
     },
     "metadata": {
      "application/vnd.databricks.v1+output": {
       "addedWidgets": {},
       "aggData": [],
       "aggError": "",
       "aggOverflow": false,
       "aggSchema": [],
       "aggSeriesLimitReached": false,
       "aggType": "",
       "arguments": {},
       "columnCustomDisplayInfos": {},
       "data": [],
       "datasetInfos": [],
       "dbfsResultPath": null,
       "isJsonSchema": true,
       "metadata": {},
       "overflow": false,
       "plotOptions": {
        "customPlotOptions": {},
        "displayType": "table",
        "pivotAggregation": null,
        "pivotColumns": null,
        "xColumns": null,
        "yColumns": null
       },
       "removedWidgets": [],
       "schema": [
        {
         "metadata": "{}",
         "name": "transaction_id",
         "type": "\"long\""
        },
        {
         "metadata": "{}",
         "name": "pharmacy_id",
         "type": "\"long\""
        },
        {
         "metadata": "{}",
         "name": "product_id",
         "type": "\"long\""
        },
        {
         "metadata": "{}",
         "name": "customer_id",
         "type": "\"long\""
        },
        {
         "metadata": "{}",
         "name": "transaction_date",
         "type": "\"string\""
        },
        {
         "metadata": "{}",
         "name": "quantity",
         "type": "\"long\""
        },
        {
         "metadata": "{}",
         "name": "total_amount",
         "type": "\"long\""
        },
        {
         "metadata": "{}",
         "name": "payment_method",
         "type": "\"string\""
        },
        {
         "metadata": "{}",
         "name": "count",
         "type": "\"long\""
        }
       ],
       "type": "table"
      }
     },
     "output_type": "display_data"
    }
   ],
   "source": [
    "from pyspark.sql.functions import count\n",
    "\n",
    "# Use * to unpack the list of column names into separate arguments for groupBy\n",
    "df_duplicates = spark.createDataFrame(df).groupBy(*df.columns).agg(count(\"*\").alias(\"count\")).filter(\"count > 1\")\n",
    "display(df_duplicates)"
   ]
  },
  {
   "cell_type": "code",
   "execution_count": 0,
   "metadata": {
    "application/vnd.databricks.v1+cell": {
     "cellMetadata": {
      "byteLimit": 2048000,
      "rowLimit": 10000
     },
     "inputWidgets": {},
     "nuid": "4847b087-203d-4cbe-874b-3c032da52c25",
     "showTitle": false,
     "title": ""
    }
   },
   "outputs": [
    {
     "output_type": "execute_result",
     "data": {
      "text/plain": [
       "transaction_id      12\n",
       "pharmacy_id         12\n",
       "product_id          12\n",
       "customer_id         12\n",
       "transaction_date    12\n",
       "quantity            12\n",
       "total_amount        12\n",
       "payment_method      12\n",
       "dtype: int64"
      ]
     },
     "execution_count": 21,
     "metadata": {},
     "output_type": "execute_result"
    }
   ],
   "source": [
    "df.count()"
   ]
  },
  {
   "cell_type": "markdown",
   "metadata": {
    "application/vnd.databricks.v1+cell": {
     "cellMetadata": {},
     "inputWidgets": {},
     "nuid": "b703c306-f1fd-4d94-95ed-fe33e4418268",
     "showTitle": false,
     "title": ""
    }
   },
   "source": [
    "## Transformando em spark dataframe"
   ]
  },
  {
   "cell_type": "code",
   "execution_count": 0,
   "metadata": {
    "application/vnd.databricks.v1+cell": {
     "cellMetadata": {
      "byteLimit": 2048000,
      "rowLimit": 10000
     },
     "inputWidgets": {},
     "nuid": "0084a24e-5de1-4d0b-891e-3ab9928e58e0",
     "showTitle": false,
     "title": ""
    }
   },
   "outputs": [
    {
     "output_type": "stream",
     "name": "stdout",
     "output_type": "stream",
     "text": [
      "root\n |-- transaction_id: long (nullable = true)\n |-- pharmacy_id: long (nullable = true)\n |-- product_id: long (nullable = true)\n |-- customer_id: long (nullable = true)\n |-- transaction_date: string (nullable = true)\n |-- quantity: long (nullable = true)\n |-- total_amount: long (nullable = true)\n |-- payment_method: string (nullable = true)\n\n"
     ]
    }
   ],
   "source": [
    "# Transformando em spark dataframe\n",
    "df_spark = spark.createDataFrame(df)\n",
    "\n",
    "# Usando o printschema para verificar se o schema está correto\n",
    "df_spark.printSchema()"
   ]
  },
  {
   "cell_type": "markdown",
   "metadata": {
    "application/vnd.databricks.v1+cell": {
     "cellMetadata": {
      "byteLimit": 2048000,
      "rowLimit": 10000
     },
     "inputWidgets": {},
     "nuid": "ddfe9eb0-ee27-4f17-a718-78959a075531",
     "showTitle": false,
     "title": ""
    }
   },
   "source": [
    "## Limpar Diretório\n"
   ]
  },
  {
   "cell_type": "code",
   "execution_count": 0,
   "metadata": {
    "application/vnd.databricks.v1+cell": {
     "cellMetadata": {
      "byteLimit": 2048000,
      "rowLimit": 10000
     },
     "inputWidgets": {},
     "nuid": "e447ff6f-ac16-4c7e-a7fa-fbf259dfa92a",
     "showTitle": false,
     "title": ""
    }
   },
   "outputs": [
    {
     "output_type": "stream",
     "name": "stdout",
     "output_type": "stream",
     "text": [
      "Todos os arquivos no diretório /mnt/temp/ia/databricks_temp/tratados foram removidos.\n"
     ]
    }
   ],
   "source": [
    "#Limpar o Diretório antes de gravar arquivo\n",
    "directory = \"/mnt/temp/ia/databricks_temp/tratados\"\n",
    "\n",
    "# Listar todos os arquivos no diretório\n",
    "files = dbutils.fs.ls(directory)\n",
    "\n",
    "# Iterar sobre os arquivos e remover cada um deles\n",
    "for file in files:\n",
    "    dbutils.fs.rm(file.path, recurse=True)\n",
    "\n",
    "# Verificar se o diretório está vazio\n",
    "remaining_files = dbutils.fs.ls(directory)\n",
    "if len(remaining_files) == 0:\n",
    "    print(f'Todos os arquivos no diretório {directory} foram removidos.')\n",
    "else:\n",
    "    print(f'Ainda existem arquivos no diretório {directory}.')"
   ]
  },
  {
   "cell_type": "markdown",
   "metadata": {
    "application/vnd.databricks.v1+cell": {
     "cellMetadata": {
      "byteLimit": 2048000,
      "rowLimit": 10000
     },
     "inputWidgets": {},
     "nuid": "193afd19-b475-4321-8fb1-139bbf18fb4b",
     "showTitle": false,
     "title": ""
    }
   },
   "source": [
    "## Salvar CSV"
   ]
  },
  {
   "cell_type": "code",
   "execution_count": 0,
   "metadata": {
    "application/vnd.databricks.v1+cell": {
     "cellMetadata": {
      "byteLimit": 2048000,
      "rowLimit": 10000
     },
     "inputWidgets": {},
     "nuid": "9854d378-a61f-4785-bea4-eb381b3673b1",
     "showTitle": false,
     "title": ""
    }
   },
   "outputs": [
    {
     "output_type": "stream",
     "name": "stdout",
     "output_type": "stream",
     "text": [
      "DataFrame saved successfully in CSV format.\n"
     ]
    }
   ],
   "source": [
    "import os\n",
    "from pyspark.sql import SparkSession\n",
    "\n",
    "\n",
    "# Verificar se o diretório já existe e, se existir, deletar\n",
    "if os.path.exists(caminho_arquivo_csv):\n",
    "    # Remove the existing directory\n",
    "    try:\n",
    "        os.system(f'rm -r {caminho_arquivo_csv}')\n",
    "        print(\"Existing CSV directory removed successfully.\")\n",
    "    except Exception as e:\n",
    "        print(\"Error removing existing CSV directory:\", str(e))\n",
    "\n",
    "# Salvar o DataFrame no formato CSV em um único arquivo\n",
    "try:\n",
    "    df_spark.coalesce(1).write.csv(caminho_arquivo_csv, header=True, mode=\"overwrite\")\n",
    "    print(\"DataFrame saved successfully in CSV format.\")\n",
    "except Exception as e:\n",
    "    print(\"Error saving DataFrame:\", str(e))\n"
   ]
  },
  {
   "cell_type": "markdown",
   "metadata": {
    "application/vnd.databricks.v1+cell": {
     "cellMetadata": {
      "byteLimit": 2048000,
      "rowLimit": 10000
     },
     "inputWidgets": {},
     "nuid": "d816ea6b-45a2-4081-9069-a4014e054b4c",
     "showTitle": false,
     "title": ""
    }
   },
   "source": [
    "\n",
    "## Renomeando o Arquivo para nome apropriado para input dados \n",
    "\n"
   ]
  },
  {
   "cell_type": "code",
   "execution_count": 0,
   "metadata": {
    "application/vnd.databricks.v1+cell": {
     "cellMetadata": {
      "byteLimit": 2048000,
      "rowLimit": 10000
     },
     "inputWidgets": {},
     "nuid": "1f5a81b3-1e59-4244-948d-810608473261",
     "showTitle": false,
     "title": ""
    }
   },
   "outputs": [
    {
     "output_type": "stream",
     "name": "stdout",
     "output_type": "stream",
     "text": [
      "Nome do arquivo com extensão: part-00000-tid-1093700173197635299-268b5a7e-be92-4ab6-b14c-81b457a3738b-391-1-c000.csv\nNome do arquivo sem extensão: part-00000-tid-1093700173197635299-268b5a7e-be92-4ab6-b14c-81b457a3738b-391-1-c000\nArquivo renomeado para: /mnt/temp/ia/databricks_temp/tratados/brahma.csv\n"
     ]
    }
   ],
   "source": [
    "import os\n",
    "\n",
    "# Diretório onde os arquivos estão localizados\n",
    "directory = caminho_arquivo_csv\n",
    "\n",
    "# Listar arquivos no diretório\n",
    "files = dbutils.fs.ls(directory)\n",
    "\n",
    "# Iterar sobre os arquivos\n",
    "for file in files:\n",
    "    if file.name.endswith('.csv'):\n",
    "        # Armazenar o nome do arquivo sem a extensão em uma variável\n",
    "        file_name_with_extension = file.name\n",
    "        file_name_without_extension = os.path.splitext(file_name_with_extension)[0]\n",
    "        \n",
    "        # Exibir o nome do arquivo com e sem extensão\n",
    "        print(f'Nome do arquivo com extensão: {file_name_with_extension}')\n",
    "        print(f'Nome do arquivo sem extensão: {file_name_without_extension}')\n",
    "        \n",
    "        # Caminho completo do arquivo original\n",
    "        source_path = os.path.join(directory, file_name_with_extension)\n",
    "        \n",
    "        # Novo caminho com o novo nome\n",
    "        destination_path = os.path.join(directory, \"brahma.csv\")\n",
    "        \n",
    "        # Renomear o arquivo\n",
    "        dbutils.fs.mv(source_path, destination_path)\n",
    "        print(f'Arquivo renomeado para: {destination_path}')"
   ]
  }
 ],
 "metadata": {
  "application/vnd.databricks.v1+notebook": {
   "dashboards": [],
   "environmentMetadata": null,
   "language": "python",
   "notebookMetadata": {
    "mostRecentlyExecutedCommandWithImplicitDF": {
     "commandId": 600930252872235,
     "dataframes": [
      "_sqldf"
     ]
    },
    "pythonIndentUnit": 4
   },
   "notebookName": "ntb_demo_Luciana",
   "widgets": {}
  }
 },
 "nbformat": 4,
 "nbformat_minor": 0
}
